{
  "cells": [
    {
      "cell_type": "markdown",
      "source": [
        "------------Stock Market Portfolio Calculator--------------\n",
        "\n",
        "Given the input of the comapany, number of shares bought and price at which the shares are purchased.\n",
        "\n",
        "The ouput is the total investment value, the profit or loss and the profit or loss percentage.\n",
        "\n",
        "The project is made using the yahoo finance API which provides the live stock market data feed.\n"
      ],
      "metadata": {
        "id": "Ye3weVmzzTkh"
      }
    },
    {
      "cell_type": "code",
      "execution_count": 1,
      "metadata": {
        "colab": {
          "base_uri": "https://localhost:8080/"
        },
        "id": "f81buUfFMy8W",
        "outputId": "134ea71f-eeb3-46b9-a94e-f984c1c60533"
      },
      "outputs": [
        {
          "output_type": "stream",
          "name": "stdout",
          "text": [
            "Looking in indexes: https://pypi.org/simple, https://us-python.pkg.dev/colab-wheels/public/simple/\n",
            "Requirement already satisfied: yfinance in /usr/local/lib/python3.7/dist-packages (0.1.77)\n",
            "Requirement already satisfied: appdirs>=1.4.4 in /usr/local/lib/python3.7/dist-packages (from yfinance) (1.4.4)\n",
            "Requirement already satisfied: requests>=2.26 in /usr/local/lib/python3.7/dist-packages (from yfinance) (2.28.1)\n",
            "Requirement already satisfied: pandas>=0.24.0 in /usr/local/lib/python3.7/dist-packages (from yfinance) (1.3.5)\n",
            "Requirement already satisfied: lxml>=4.5.1 in /usr/local/lib/python3.7/dist-packages (from yfinance) (4.9.1)\n",
            "Requirement already satisfied: numpy>=1.15 in /usr/local/lib/python3.7/dist-packages (from yfinance) (1.21.6)\n",
            "Requirement already satisfied: multitasking>=0.0.7 in /usr/local/lib/python3.7/dist-packages (from yfinance) (0.0.11)\n",
            "Requirement already satisfied: python-dateutil>=2.7.3 in /usr/local/lib/python3.7/dist-packages (from pandas>=0.24.0->yfinance) (2.8.2)\n",
            "Requirement already satisfied: pytz>=2017.3 in /usr/local/lib/python3.7/dist-packages (from pandas>=0.24.0->yfinance) (2022.4)\n",
            "Requirement already satisfied: six>=1.5 in /usr/local/lib/python3.7/dist-packages (from python-dateutil>=2.7.3->pandas>=0.24.0->yfinance) (1.15.0)\n",
            "Requirement already satisfied: idna<4,>=2.5 in /usr/local/lib/python3.7/dist-packages (from requests>=2.26->yfinance) (2.10)\n",
            "Requirement already satisfied: charset-normalizer<3,>=2 in /usr/local/lib/python3.7/dist-packages (from requests>=2.26->yfinance) (2.1.1)\n",
            "Requirement already satisfied: certifi>=2017.4.17 in /usr/local/lib/python3.7/dist-packages (from requests>=2.26->yfinance) (2022.9.24)\n",
            "Requirement already satisfied: urllib3<1.27,>=1.21.1 in /usr/local/lib/python3.7/dist-packages (from requests>=2.26->yfinance) (1.24.3)\n"
          ]
        }
      ],
      "source": [
        "!pip install yfinance"
      ]
    },
    {
      "cell_type": "code",
      "execution_count": 2,
      "metadata": {
        "colab": {
          "base_uri": "https://localhost:8080/"
        },
        "id": "9WnEaAgSGg0j",
        "outputId": "147fea36-f537-4cdb-c051-d428024af78a"
      },
      "outputs": [
        {
          "output_type": "stream",
          "name": "stdout",
          "text": [
            "Looking in indexes: https://pypi.org/simple, https://us-python.pkg.dev/colab-wheels/public/simple/\n",
            "Requirement already satisfied: tabulate in /usr/local/lib/python3.7/dist-packages (0.8.10)\n"
          ]
        }
      ],
      "source": [
        "!pip install tabulate"
      ]
    },
    {
      "cell_type": "code",
      "execution_count": 3,
      "metadata": {
        "id": "-OCv0jpnM5Co"
      },
      "outputs": [],
      "source": [
        "import pandas as pd\n",
        "import numpy as np\n",
        "import matplotlib.pyplot as plt\n",
        "import seaborn as sns\n",
        "import datetime as dt\n",
        "import sys \n",
        "import yfinance as yf\n",
        "import time\n",
        "from tabulate import tabulate\n",
        "from IPython.display import clear_output"
      ]
    },
    {
      "cell_type": "code",
      "execution_count": 4,
      "metadata": {
        "colab": {
          "base_uri": "https://localhost:8080/"
        },
        "id": "Me9f0gRne8Zf",
        "outputId": "97e31e9c-00c5-4b9f-dfb1-3a97bfadabfa"
      },
      "outputs": [
        {
          "name": "stdout",
          "output_type": "stream",
          "text": [
            "Enter the number of stocks: 4\n"
          ]
        }
      ],
      "source": [
        "n=int(input(\"Enter the number of stocks: \"))"
      ]
    },
    {
      "cell_type": "code",
      "execution_count": 5,
      "metadata": {
        "colab": {
          "base_uri": "https://localhost:8080/"
        },
        "id": "6PySjxuufICq",
        "outputId": "bcd97e0d-441c-49b1-9cd0-d52d396c375e"
      },
      "outputs": [
        {
          "name": "stdout",
          "output_type": "stream",
          "text": [
            "Stock 1\n",
            "Enter Stock name: RELIANCE.NS\n",
            "Number of shares: 5\n",
            "Buy price: 2000\n",
            "Stock 2\n",
            "Enter Stock name: NESTLEIND.NS\n",
            "Number of shares: 10\n",
            "Buy price: 10000\n",
            "Stock 3\n",
            "Enter Stock name: ASIANPAINT.NS\n",
            "Number of shares: 15\n",
            "Buy price: 3000\n",
            "Stock 4\n",
            "Enter Stock name: HDFCBANK.NS\n",
            "Number of shares: 20\n",
            "Buy price: 1000\n"
          ]
        }
      ],
      "source": [
        "input_data = {}\n",
        "input_data[\"name\"] = []\n",
        "input_data[\"n_shares\"] = []\n",
        "input_data[\"buy_price\"] = []\n",
        "\n",
        "for i in range(n):\n",
        "  print(\"Stock\", i+1)\n",
        "  input_data[\"name\"].append(input(\"Enter Stock name: \"))\n",
        "  input_data[\"n_shares\"].append(float(input(\"Number of shares: \")))\n",
        "  input_data[\"buy_price\"].append(float(input(\"Buy price: \")))"
      ]
    },
    {
      "cell_type": "code",
      "execution_count": 6,
      "metadata": {
        "colab": {
          "base_uri": "https://localhost:8080/"
        },
        "id": "QJdg69oJgp6e",
        "outputId": "b5b840e8-4622-46ff-c293-ca01c661fc25"
      },
      "outputs": [
        {
          "output_type": "stream",
          "name": "stdout",
          "text": [
            "name             n_shares    buy_price    tot_invst       CMP    tot_val    profit    profit_percent\n",
            "-------------  ----------  -----------  -----------  --------  ---------  --------  ----------------\n",
            "RELIANCE.NS             5         2000        10000   2375.25    11876.2   1876.25          18.7625\n",
            "NESTLEIND.NS           10        10000       100000  18725.4    187254    87254             87.254\n",
            "ASIANPAINT.NS          15         3000        45000   3248.2     48723     3723              8.27333\n",
            "HDFCBANK.NS            20         1000        20000   1409.8     28196     8196             40.98\n"
          ]
        }
      ],
      "source": [
        "calc_data = {}\n",
        "calc_data[\"tot_invst\"] = []\n",
        "calc_data[\"CMP\"]=[]\n",
        "calc_data[\"tot_val\"] = []\n",
        "calc_data[\"profit\"] = []\n",
        "calc_data[\"profit_percent\"] = []\n",
        "calc_data[\"data\"] = []\n",
        "\n",
        "while True:\n",
        "  try:\n",
        "    for i in range(n):\n",
        "      stockTicker = yf.Ticker(input_data[\"name\"][i])\n",
        "      try:\n",
        "        calc_data[\"data\"][i] = stockTicker.history(period = '1d', interval = '5m')\n",
        "      except IndexError:\n",
        "        calc_data[\"data\"].append(stockTicker.history(period = '1d', interval = '5m'))\n",
        "      \n",
        "      CMP = calc_data[\"data\"][i].Close[-1]\n",
        "      try:\n",
        "        calc_data[\"CMP\"][i] = CMP\n",
        "      except IndexError:\n",
        "        calc_data[\"CMP\"].append(CMP)\n",
        "\n",
        "      try:\n",
        "        calc_data[\"tot_invst\"][i] = (input_data[\"n_shares\"][i]*input_data[\"buy_price\"][i])\n",
        "      except IndexError:\n",
        "        calc_data[\"tot_invst\"].append(input_data[\"n_shares\"][i]*input_data[\"buy_price\"][i])\n",
        "\n",
        "      try:\n",
        "        calc_data[\"tot_val\"][i] = (input_data[\"n_shares\"][i]*CMP)\n",
        "      except IndexError:\n",
        "        calc_data[\"tot_val\"].append(input_data[\"n_shares\"][i]*CMP)\n",
        "      \n",
        "\n",
        "      try:\n",
        "        calc_data[\"profit\"][i] = (calc_data[\"tot_val\"][i]-calc_data[\"tot_invst\"][i])\n",
        "      except IndexError:\n",
        "        calc_data[\"profit\"].append(calc_data[\"tot_val\"][i]-calc_data[\"tot_invst\"][i])\n",
        "      \n",
        "      try:\n",
        "        calc_data[\"profit_percent\"][i] = ((calc_data[\"profit\"][i]*100)/(calc_data[\"tot_invst\"][i]))\n",
        "      except IndexError:\n",
        "        calc_data[\"profit_percent\"].append((calc_data[\"profit\"][i]*100)/(calc_data[\"tot_invst\"][i]))\n",
        "    out_data = input_data\n",
        "    out_data.update(calc_data)\n",
        "    out_data.pop(\"data\")\n",
        "    clear_output(wait = True)\n",
        "    print(tabulate(out_data, headers = 'keys'), flush = True)\n",
        "  except:\n",
        "    break"
      ]
    }
  ],
  "metadata": {
    "colab": {
      "collapsed_sections": [],
      "provenance": []
    },
    "kernelspec": {
      "display_name": "Python 3",
      "name": "python3"
    },
    "language_info": {
      "name": "python"
    }
  },
  "nbformat": 4,
  "nbformat_minor": 0
}